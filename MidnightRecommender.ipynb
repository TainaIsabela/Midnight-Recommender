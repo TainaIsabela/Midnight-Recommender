{
 "cells": [
  {
   "cell_type": "markdown",
   "metadata": {},
   "source": [
    "# Recommendation System of books from Amazon\n",
    "\n",
    "## Libraries used:\n",
    "- langchain, chromadb, openai, csv loader, opeanai embeddings, retrievalQA"
   ]
  },
  {
   "cell_type": "code",
   "execution_count": 13,
   "metadata": {},
   "outputs": [],
   "source": [
    "# import libraries\n",
    "\n",
    "from langchain.document_loaders import CSVLoader\n",
    "from langchain.vectorstores import Chroma\n",
    "import chromadb\n",
    "from langchain.embeddings import OpenAIEmbeddings\n",
    "import openai\n",
    "from langchain.prompts import PromptTemplate\n",
    "from dotenv import load_dotenv\n",
    "from langchain.chains import RetrievalQA\n",
    "from langchain.text_splitter import RecursiveCharacterTextSplitter\n",
    "import os\n",
    "from langchain.chat_models import ChatOpenAI"
   ]
  },
  {
   "cell_type": "code",
   "execution_count": 14,
   "metadata": {},
   "outputs": [
    {
     "data": {
      "text/plain": [
       "True"
      ]
     },
     "execution_count": 14,
     "metadata": {},
     "output_type": "execute_result"
    }
   ],
   "source": [
    "load_dotenv()"
   ]
  },
  {
   "cell_type": "code",
   "execution_count": 15,
   "metadata": {},
   "outputs": [],
   "source": [
    "# Carregando o csv no langchain\n",
    "\n",
    "csv_loader = CSVLoader('livros-skoob.csv')\n",
    "csv_file = csv_loader.load()"
   ]
  },
  {
   "cell_type": "code",
   "execution_count": 16,
   "metadata": {},
   "outputs": [
    {
     "data": {
      "text/plain": [
       "7907"
      ]
     },
     "execution_count": 16,
     "metadata": {},
     "output_type": "execute_result"
    }
   ],
   "source": [
    "# Dividindo o texto em pedaços\n",
    "\n",
    "csv_splitter = RecursiveCharacterTextSplitter(chunk_size=1000, chunk_overlap=100)\n",
    "\n",
    "csv_document = csv_splitter.split_documents(csv_file)\n",
    "\n",
    "len(csv_document)\n"
   ]
  },
  {
   "cell_type": "code",
   "execution_count": 17,
   "metadata": {},
   "outputs": [
    {
     "data": {
      "text/plain": [
       "Document(page_content='Unnamed: 0: 1\\nTitle: Black Holes (L) : The Reith Lectures [Paperback] Hawking, Stephen\\nAuthor: Stephen Hawking\\nMain Genre: Arts, Film & Photography\\nSub Genre: Cinema & Broadcast\\nType: Paperback\\nPrice: ₹99.00\\nRating: 4.5', metadata={'source': 'amazon_books_cleaned.csv', 'row': 1})"
      ]
     },
     "execution_count": 17,
     "metadata": {},
     "output_type": "execute_result"
    }
   ],
   "source": [
    "# find a specific text in the csv file\n",
    "\n",
    "csv_document[1]"
   ]
  },
  {
   "cell_type": "code",
   "execution_count": 20,
   "metadata": {},
   "outputs": [],
   "source": [
    "# criando vetores com langchain chroma\n",
    "\n",
    "# 1) persistir o diretório\n",
    "\n",
    "persist_directory = 'chroma_db'\n",
    "\n",
    "# # 2) criando os embeddings\n",
    "\n",
    "embeddings = OpenAIEmbeddings(api_key=\"\")\n",
    "\n",
    "# # 3) criando os vetores\n",
    "\n",
    "vector_db = Chroma.from_documents(documents=csv_document, embedding=embeddings, persist_directory=persist_directory)"
   ]
  },
  {
   "cell_type": "code",
   "execution_count": 21,
   "metadata": {},
   "outputs": [],
   "source": [
    "# persistindo os vetores no disco\n",
    "\n",
    "vector_db.persist()\n",
    "vector_db = None"
   ]
  },
  {
   "cell_type": "code",
   "execution_count": 43,
   "metadata": {},
   "outputs": [],
   "source": [
    "# Carregando o armazenamento de vetores do disco para usar\n",
    "\n",
    "vector_db = Chroma(persist_directory=persist_directory, embedding_function=embeddings)"
   ]
  },
  {
   "cell_type": "code",
   "execution_count": 50,
   "metadata": {},
   "outputs": [],
   "source": [
    "# criando o recuperador\n",
    "\n",
    "retriever = vector_db.as_retriever()\n"
   ]
  },
  {
   "cell_type": "code",
   "execution_count": 51,
   "metadata": {},
   "outputs": [
    {
     "data": {
      "text/plain": [
       "'similarity'"
      ]
     },
     "execution_count": 51,
     "metadata": {},
     "output_type": "execute_result"
    }
   ],
   "source": [
    "# Verificando o tipo de pesquisa com o recuperador\n",
    "\n",
    "retriever.search_type"
   ]
  },
  {
   "cell_type": "code",
   "execution_count": 52,
   "metadata": {},
   "outputs": [],
   "source": [
    "# criando o modelo de prompt\n",
    "\n",
    "prompt_template = \"\"\"Você é um sistema de recomendação de livros do Skoob. Use as seguintes partes do contexto para \n",
    "responder à pergunta e recomendar um livro ao usuário. Se você não souber a resposta, basta dizer \"não sei\"\".\n",
    "\n",
    "{context}\n",
    "\n",
    "Questão: {question}\n",
    "\"\"\"\n",
    "\n",
    "PROMPT = PromptTemplate(template=prompt_template, input_variables=['context', 'question'])"
   ]
  },
  {
   "cell_type": "code",
   "execution_count": 53,
   "metadata": {},
   "outputs": [],
   "source": [
    "# Crie a Chain para o chat com o retriever e o modelo de prompt\n",
    "\n",
    "qachain = RetrievalQA.from_chain_type(llm=ChatOpenAI(\n",
    "                                    model_name = \"gpt-3.5-turbo\",\n",
    "                                    temperature=0.1,\n",
    "                                    verbose=False), \n",
    "                                    chain_type='stuff',\n",
    "                                    chain_type_kwargs={'prompt': PROMPT},\n",
    "                                    retriever=retriever)"
   ]
  },
  {
   "cell_type": "code",
   "execution_count": 55,
   "metadata": {},
   "outputs": [
    {
     "name": "stdout",
     "output_type": "stream",
     "text": [
      "('Com base nas informações fornecidas, eu recomendaria o livro \"Artificial '\n",
      " 'Intelligence: A Modern Approach, 4e\" de Russell/Norvig. Ele está disponível '\n",
      " 'em formato de Paperback, com um preço de ₹1,116.01 e possui uma avaliação de '\n",
      " '4.3. Espero que goste da recomendação!')\n"
     ]
    }
   ],
   "source": [
    "doc = qachain('Pode me recomendar um livro sobre inteligência artificial?')\n",
    "import pprint\n",
    "pprint.pprint(doc['result'])"
   ]
  },
  {
   "cell_type": "code",
   "execution_count": 57,
   "metadata": {},
   "outputs": [
    {
     "name": "stdout",
     "output_type": "stream",
     "text": [
      "('Recomendo o livro \"The Serpent and the Wings of Night (Crowns of Nyaxia Book '\n",
      " '1)\" de Carissa Broadbent. É um livro de fantasia que pode te interessar, '\n",
      " 'pois envolve dragões em sua história.')\n"
     ]
    }
   ],
   "source": [
    "# inititalize the chatbot question and answering with PROMPT \n",
    "\n",
    "QUERY = \"Algum livro para recomendar do genêro de Fantasia sobre dragões?\"\n",
    "\n",
    "doc_prompt = qachain({\"query\": QUERY})\n",
    "\n",
    "import pprint\n",
    "\n",
    "pprint.pprint(doc_prompt['result'])"
   ]
  }
 ],
 "metadata": {
  "kernelspec": {
   "display_name": "youtubedsinterview",
   "language": "python",
   "name": "python3"
  },
  "language_info": {
   "codemirror_mode": {
    "name": "ipython",
    "version": 3
   },
   "file_extension": ".py",
   "mimetype": "text/x-python",
   "name": "python",
   "nbconvert_exporter": "python",
   "pygments_lexer": "ipython3",
   "version": "3.10.12"
  }
 },
 "nbformat": 4,
 "nbformat_minor": 2
}
